{
  "nbformat": 4,
  "nbformat_minor": 0,
  "metadata": {
    "colab": {
      "provenance": [],
      "authorship_tag": "ABX9TyNkRoWsyIiJF4T1uuv3Awn8",
      "include_colab_link": true
    },
    "kernelspec": {
      "name": "python3",
      "display_name": "Python 3"
    },
    "language_info": {
      "name": "python"
    }
  },
  "cells": [
    {
      "cell_type": "markdown",
      "metadata": {
        "id": "view-in-github",
        "colab_type": "text"
      },
      "source": [
        "<a href=\"https://colab.research.google.com/github/KeerthanaHM36/Pytorch/blob/main/Pytorch.ipynb\" target=\"_parent\"><img src=\"https://colab.research.google.com/assets/colab-badge.svg\" alt=\"Open In Colab\"/></a>"
      ]
    },
    {
      "cell_type": "markdown",
      "source": [
        "# ***`PyTorch Tensors`***"
      ],
      "metadata": {
        "id": "9VSDbQrx0-Ze"
      }
    },
    {
      "cell_type": "code",
      "execution_count": null,
      "metadata": {
        "colab": {
          "base_uri": "https://localhost:8080/"
        },
        "id": "RIa21YQX0rp3",
        "outputId": "5b8b54b9-94a6-41f2-8741-5e209c664c60"
      },
      "outputs": [
        {
          "output_type": "stream",
          "name": "stdout",
          "text": [
            "1D Tensor: \n",
            " tensor([1., 2., 3.])\n",
            "2D Tensor: \n",
            " tensor([[0., 0., 0.],\n",
            "        [0., 0., 0.],\n",
            "        [0., 0., 0.]])\n"
          ]
        }
      ],
      "source": [
        "import torch\n",
        "\n",
        "# Creating a 1D tensor\n",
        "x = torch.tensor([1.0, 2.0, 3.0])\n",
        "print('1D Tensor: \\n', x)\n",
        "\n",
        "# Creating a 2D tensor\n",
        "y = torch.zeros((3, 3))\n",
        "print('2D Tensor: \\n', y)"
      ]
    },
    {
      "cell_type": "markdown",
      "source": [
        "# ***`Operations on Tensors`***"
      ],
      "metadata": {
        "id": "3AoOIU2T1Vpf"
      }
    },
    {
      "cell_type": "code",
      "source": [
        "a = torch.tensor([1.0, 2.0])\n",
        "b = torch.tensor([3.0, 4.0])\n",
        "\n",
        "# Element-wise addition\n",
        "print('Element Wise Addition of a & b: \\n', a + b)\n",
        "\n",
        "# Matrix multiplication\n",
        "print('Matrix Multiplication of a & b: \\n',\n",
        "      torch.matmul(a.view(2, 1), b.view(1, 2)))"
      ],
      "metadata": {
        "colab": {
          "base_uri": "https://localhost:8080/"
        },
        "id": "RkmLswh300sK",
        "outputId": "13b7c02c-1ca8-49e7-e8eb-ea6cbbe92637"
      },
      "execution_count": null,
      "outputs": [
        {
          "output_type": "stream",
          "name": "stdout",
          "text": [
            "Element Wise Addition of a & b: \n",
            " tensor([4., 6.])\n",
            "Matrix Multiplication of a & b: \n",
            " tensor([[3., 4.],\n",
            "        [6., 8.]])\n"
          ]
        }
      ]
    },
    {
      "cell_type": "markdown",
      "source": [
        "# ***`Reshaping and Transposing Tensors`***"
      ],
      "metadata": {
        "id": "r8ysrmh41lMg"
      }
    },
    {
      "cell_type": "code",
      "source": [
        "import torch\n",
        "t = torch.tensor([[1, 2, 3, 4],\n",
        "                 [5, 6, 7, 8],\n",
        "                 [9, 10, 11, 12]])\n",
        "\n",
        "# Reshaping\n",
        "print(\"Reshaping\")\n",
        "print(t.reshape(6, 2))\n",
        "\n",
        "# Resizing (deprecated, use reshape)\n",
        "print(\"\\nResizing\")\n",
        "print(t.view(2, 6))\n",
        "\n",
        "# Transposing\n",
        "print(\"\\nTransposing\")\n",
        "print(t.transpose(0, 1))"
      ],
      "metadata": {
        "colab": {
          "base_uri": "https://localhost:8080/"
        },
        "id": "-IhW9YOz00t1",
        "outputId": "8e4f0959-4ac4-4eb9-ca90-036931e7c537"
      },
      "execution_count": null,
      "outputs": [
        {
          "output_type": "stream",
          "name": "stdout",
          "text": [
            "Reshaping\n",
            "tensor([[ 1,  2],\n",
            "        [ 3,  4],\n",
            "        [ 5,  6],\n",
            "        [ 7,  8],\n",
            "        [ 9, 10],\n",
            "        [11, 12]])\n",
            "\n",
            "Resizing\n",
            "tensor([[ 1,  2,  3,  4,  5,  6],\n",
            "        [ 7,  8,  9, 10, 11, 12]])\n",
            "\n",
            "Transposing\n",
            "tensor([[ 1,  5,  9],\n",
            "        [ 2,  6, 10],\n",
            "        [ 3,  7, 11],\n",
            "        [ 4,  8, 12]])\n"
          ]
        }
      ]
    },
    {
      "cell_type": "markdown",
      "source": [
        "# ***`Autograd and Computational Graphs`***\n"
      ],
      "metadata": {
        "id": "QUTZNAwe187m"
      }
    },
    {
      "cell_type": "code",
      "source": [
        "x = torch.tensor(2.0, requires_grad=True)\n",
        "y = x ** 2\n",
        "y.backward()\n",
        "print(x.grad)  #(dy/dx = 2x = 4 when x=2)"
      ],
      "metadata": {
        "colab": {
          "base_uri": "https://localhost:8080/"
        },
        "id": "tSfwWmJQ00y0",
        "outputId": "7861f47a-3802-4d5b-df96-cc094f347a68"
      },
      "execution_count": null,
      "outputs": [
        {
          "output_type": "stream",
          "name": "stdout",
          "text": [
            "tensor(4.)\n"
          ]
        }
      ]
    },
    {
      "cell_type": "markdown",
      "source": [
        "# ***`Building Neural Networks in PyTorch`***\n"
      ],
      "metadata": {
        "id": "atgv5JJs2Vm7"
      }
    },
    {
      "cell_type": "code",
      "source": [
        "import torch\n",
        "import torch.nn as nn\n",
        "\n",
        "class NeuralNetwork(nn.Module):\n",
        "    def __init__(self):\n",
        "        super(NeuralNetwork, self).__init__()\n",
        "        self.fc1 = nn.Linear(10, 16)  # First layer\n",
        "        self.fc2 = nn.Linear(16, 8)   # Second layer\n",
        "        self.fc3 = nn.Linear(8, 1)    # Output layer\n",
        "\n",
        "    def forward(self, x):\n",
        "        x = torch.relu(self.fc1(x))\n",
        "        x = torch.relu(self.fc2(x))\n",
        "        x = torch.sigmoid(self.fc3(x))\n",
        "        return x\n",
        "\n",
        "model = NeuralNetwork()\n",
        "print(model)"
      ],
      "metadata": {
        "colab": {
          "base_uri": "https://localhost:8080/"
        },
        "id": "EjdltHhe2ZF6",
        "outputId": "28eb8e2f-c204-4f8d-c197-7d3cb0828a15"
      },
      "execution_count": null,
      "outputs": [
        {
          "output_type": "stream",
          "name": "stdout",
          "text": [
            "NeuralNetwork(\n",
            "  (fc1): Linear(in_features=10, out_features=16, bias=True)\n",
            "  (fc2): Linear(in_features=16, out_features=8, bias=True)\n",
            "  (fc3): Linear(in_features=8, out_features=1, bias=True)\n",
            ")\n"
          ]
        }
      ]
    },
    {
      "cell_type": "markdown",
      "source": [
        "# ***Define Loss Function and Optimizer***\n"
      ],
      "metadata": {
        "id": "suUHdPOB2f1K"
      }
    },
    {
      "cell_type": "code",
      "source": [
        "model = NeuralNetwork()\n",
        "criterion = nn.BCELoss()\n",
        "optimizer = torch.optim.Adam(model.parameters(), lr=0.01)"
      ],
      "metadata": {
        "id": "QljuR_BR3Fn7"
      },
      "execution_count": null,
      "outputs": []
    },
    {
      "cell_type": "markdown",
      "source": [
        "# ***`Train the Model`***\n"
      ],
      "metadata": {
        "id": "GawxUp8G3MM1"
      }
    },
    {
      "cell_type": "code",
      "source": [
        "inputs = torch.randn((100, 10))\n",
        "targets = torch.randint(0, 2, (100, 1)).float()\n",
        "epochs = 20\n",
        "\n",
        "for epoch in range(epochs):\n",
        "    optimizer.zero_grad()  # Reset gradients\n",
        "    outputs = model(inputs)  # Forward pass\n",
        "    loss = criterion(outputs, targets)  # Compute loss\n",
        "    loss.backward()  # Compute gradients\n",
        "    optimizer.step()  # Update weights\n",
        "\n",
        "    if (epoch+1) % 5 == 0:\n",
        "        print(f\"Epoch [{epoch+1}/{epochs}], Loss: {loss.item():.4f}\")"
      ],
      "metadata": {
        "colab": {
          "base_uri": "https://localhost:8080/"
        },
        "id": "sBrnJe6e3r9E",
        "outputId": "9225ad0b-1d2b-4d53-d5ac-6ef40ab2825f"
      },
      "execution_count": null,
      "outputs": [
        {
          "output_type": "stream",
          "name": "stdout",
          "text": [
            "Epoch [5/20], Loss: 0.6799\n",
            "Epoch [10/20], Loss: 0.6568\n",
            "Epoch [15/20], Loss: 0.6233\n",
            "Epoch [20/20], Loss: 0.5810\n"
          ]
        }
      ]
    }
  ]
}